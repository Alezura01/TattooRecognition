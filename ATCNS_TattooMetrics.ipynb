{
  "nbformat": 4,
  "nbformat_minor": 0,
  "metadata": {
    "colab": {
      "provenance": [],
      "authorship_tag": "ABX9TyNpI7pj9lZmbUCK9KrqKf6/",
      "include_colab_link": true
    },
    "kernelspec": {
      "name": "python3",
      "display_name": "Python 3"
    },
    "language_info": {
      "name": "python"
    }
  },
  "cells": [
    {
      "cell_type": "markdown",
      "metadata": {
        "id": "view-in-github",
        "colab_type": "text"
      },
      "source": [
        "<a href=\"https://colab.research.google.com/github/Alezura01/TattooRecognition/blob/main/ATCNS_TattooMetrics.ipynb\" target=\"_parent\"><img src=\"https://colab.research.google.com/assets/colab-badge.svg\" alt=\"Open In Colab\"/></a>"
      ]
    },
    {
      "cell_type": "markdown",
      "source": [
        "Sto importando il file con tutte le risposte del questionario."
      ],
      "metadata": {
        "id": "8QPXcCeKmTYJ"
      }
    },
    {
      "cell_type": "code",
      "source": [
        "import json\n",
        "import requests\n",
        "\n",
        "#Link of the file with all the answers for the gang tattoos.\n",
        "github_raw_url = \"https://raw.githubusercontent.com/Alezura01/TattooRecognition/main/gangTattoo.jsonl\"\n",
        "\n",
        "response = requests.get(github_raw_url)\n",
        "response_text = response.text\n",
        "righe = response_text.splitlines()\n",
        "\n",
        "tabella = []\n",
        "gruppi={}\n",
        "\n",
        "#This \"For\" will read the file line by line, creating an array per line and, when it encounters something different from \"N\" or \"C\", in our case is a number, it adds the array\n",
        "#to a table and creates an element of the dictionary with the name in the line.\n",
        "# (for example: 1Bloods, it will create as first element of the dictionary \"Bloods\":[[\"C\",\"NC\",...],[...],...))\n",
        "for riga in righe:\n",
        "  if riga[0]==\"N\" or riga[0]==\"C\" :\n",
        "    tabella.append(riga.split())\n",
        "  else:\n",
        "    gruppi[riga[1:]]=tabella\n",
        "    tabella = []\n",
        "\n",
        "print(gruppi)\n",
        "\n"
      ],
      "metadata": {
        "id": "6Mf2fonNDOkc",
        "outputId": "a2c338b7-19a5-4123-f723-8c9364f86b90",
        "colab": {
          "base_uri": "https://localhost:8080/"
        }
      },
      "execution_count": null,
      "outputs": [
        {
          "output_type": "stream",
          "name": "stdout",
          "text": [
            "{'Bloods': [['NC', 'NC', 'NC', 'NC', 'NC', 'NC', 'NC', 'NC', 'NC', 'C'], ['C', 'NC', 'NC', 'NC', 'C', 'C', 'NC', 'NC', 'C', 'C'], ['NC', 'NC', 'NC', 'NC', 'C', 'NC', 'NC', 'NC', 'NC', 'C'], ['NC', 'NC', 'NC', 'NC', 'NC', 'NC', 'NC', 'NC', 'NC', 'C'], ['NC', 'C', 'NC', 'NC', 'NC', 'NC', 'NC', 'C', 'C', 'C'], ['NC', 'NC', 'NC', 'NC', 'NC', 'NC', 'NC', 'NC', 'C', 'C'], ['NC', 'NC', 'NC', 'NC', 'NC', 'NC', 'NC', 'NC', 'C', 'C'], ['NC', 'C', 'NC', 'NC', 'NC', 'NC', 'NC', 'NC', 'C', 'C'], ['C', 'C', 'NC', 'NC', 'C', 'NC', 'NC', 'C', 'NC', 'C'], ['C', 'NC', 'C', 'C', 'NC', 'NC', 'NC', 'NC', 'C', 'NC'], ['NC', 'NC', 'NC', 'C', 'NC', 'NC', 'NC', 'C', 'C', 'C'], ['C', 'NC', 'C', 'NC', 'NC', 'NC', 'NC', 'NC', 'C', 'C']], 'Yakuza': [['C', 'NC', 'C', 'NC', 'C', 'NC', 'NC', 'C', 'C', 'C'], ['NC', 'NC', 'NC', 'NC', 'C', 'NC', 'NC', 'C', 'C', 'C'], ['C', 'C', 'C', 'NC', 'C', 'NC', 'C', 'C', 'C', 'C'], ['C', 'C', 'C', 'NC', 'NC', 'C', 'NC', 'C', 'C', 'C'], ['C', 'NC', 'C', 'NC', 'C', 'C', 'NC', 'NC', 'C', 'C'], ['C', 'C', 'NC', 'NC', 'C', 'C', 'NC', 'C', 'C', 'C'], ['C', 'NC', 'NC', 'NC', 'C', 'NC', 'NC', 'C', 'C', 'C'], ['C', 'NC', 'NC', 'NC', 'C', 'NC', 'NC', 'C', 'C', 'C'], ['C', 'NC', 'C', 'NC', 'C', 'NC', 'NC', 'NC', 'C', 'C'], ['C', 'NC', 'NC', 'NC', 'C', 'NC', 'NC', 'C', 'C', 'C'], ['C', 'NC', 'C', 'NC', 'C', 'C', 'NC', 'C', 'C', 'C'], ['C', 'C', 'NC', 'NC', 'NC', 'NC', 'NC', 'NC', 'C', 'NC'], ['C', 'NC', 'C', 'NC', 'C', 'NC', 'C', 'C', 'C', 'C'], ['C', 'NC', 'C', 'NC', 'C', 'NC', 'C', 'C', 'C', 'NC'], ['C', 'NC', 'C', 'C', 'NC', 'C', 'NC', 'C', 'C', 'C']], 'Crips': [['C', 'C', 'C', 'C', 'C', 'C', 'NC', 'NC', 'C', 'NC'], ['NC', 'NC', 'NC', 'NC', 'C', 'C', 'NC', 'NC', 'NC', 'C'], ['NC', 'C', 'C', 'NC', 'C', 'C', 'C', 'C', 'C', 'C'], ['C', 'C', 'NC', 'NC', 'C', 'NC', 'NC', 'NC', 'C', 'C'], ['NC', 'NC', 'NC', 'NC', 'NC', 'NC', 'NC', 'C', 'C', 'C'], ['NC', 'C', 'NC', 'NC', 'C', 'NC', 'NC', 'C', 'C', 'C'], ['C', 'C', 'NC', 'NC', 'NC', 'NC', 'NC', 'C', 'NC', 'C'], ['NC', 'NC', 'NC', 'NC', 'C', 'NC', 'NC', 'C', 'C', 'C'], ['C', 'C', 'C', 'C', 'C', 'C', 'NC', 'NC', 'C', 'C'], ['NC', 'C', 'NC', 'NC', 'C', 'NC', 'NC', 'NC', 'C', 'NC'], ['NC', 'C', 'NC', 'C', 'C', 'NC', 'C', 'NC', 'C', 'C'], ['NC', 'C', 'C', 'C', 'NC', 'NC', 'NC', 'NC', 'C', 'C'], ['NC', 'NC', 'NC', 'NC', 'C', 'NC', 'NC', 'C', 'NC', 'C']], 'Bratva': [['C', 'C', 'C', 'NC', 'C', 'NC', 'C', 'C', 'C', 'C'], ['C', 'C', 'C', 'C', 'C', 'C', 'C', 'C', 'C', 'C'], ['C', 'C', 'C', 'C', 'C', 'NC', 'NC', 'C', 'C', 'C'], ['C', 'C', 'C', 'NC', 'C', 'C', 'NC', 'C', 'C', 'C'], ['C', 'C', 'C', 'C', 'C', 'C', 'NC', 'C', 'C', 'C'], ['C', 'C', 'NC', 'NC', 'C', 'C', 'C', 'C', 'C', 'C'], ['C', 'NC', 'C', 'NC', 'C', 'C', 'NC', 'NC', 'C', 'C'], ['C', 'C', 'C', 'C', 'C', 'C', 'NC', 'NC', 'C', 'C'], ['C', 'NC', 'NC', 'NC', 'C', 'NC', 'NC', 'C', 'C', 'C'], ['C', 'NC', 'C', 'NC', 'C', 'NC', 'NC', 'C', 'C', 'C'], ['NC', 'NC', 'NC', 'NC', 'C', 'NC', 'NC', 'C', 'C', 'C'], ['C', 'C', 'C', 'NC', 'C', 'NC', 'NC', 'C', 'C', 'C'], ['NC', 'NC', 'C', 'NC', 'C', 'NC', 'NC', 'C', 'C', 'C'], ['C', 'NC', 'NC', 'NC', 'C', 'NC', 'NC', 'C', 'C', 'C']], 'Cartel': [['NC', 'NC', 'NC', 'C', 'C', 'NC', 'NC', 'C', 'C', 'C'], ['NC', 'C', 'NC', 'NC', 'NC', 'NC', 'NC', 'C', 'C', 'C'], ['C', 'C', 'C', 'C', 'C', 'C', 'C', 'C', 'C', 'NC'], ['NC', 'C', 'C', 'C', 'C', 'C', 'C', 'C', 'C', 'C'], ['C', 'NC', 'C', 'NC', 'C', 'C', 'C', 'C', 'C', 'C'], ['C', 'C', 'NC', 'NC', 'C', 'C', 'NC', 'C', 'C', 'NC'], ['C', 'NC', 'C', 'NC', 'NC', 'NC', 'NC', 'NC', 'C', 'C'], ['C', 'C', 'C', 'NC', 'C', 'C', 'NC', 'C', 'C', 'C'], ['C', 'C', 'C', 'C', 'C', 'NC', 'C', 'C', 'C', 'C'], ['C', 'C', 'C', 'C', 'C', 'C', 'C', 'C', 'C', 'C'], ['C', 'NC', 'C', 'NC', 'C', 'NC', 'NC', 'NC', 'C', 'NC'], ['C', 'NC', 'C', 'NC', 'C', 'C', 'C', 'C', 'C', 'C'], ['C', 'C', 'C', 'NC', 'C', 'NC', 'C', 'NC', 'C', 'NC'], ['C', 'C', 'C', 'NC', 'C', 'NC', 'C', 'C', 'C', 'NC'], ['C', 'C', 'C', 'NC', 'C', 'C', 'C', 'C', 'C', 'C']], 'Triad': [['C', 'NC', 'C', 'NC', 'C', 'C', 'NC', 'C', 'C', 'C'], ['C', 'NC', 'C', 'NC', 'C', 'C', 'NC', 'C', 'C', 'C'], ['C', 'NC', 'C', 'NC', 'C', 'NC', 'NC', 'C', 'C', 'C'], ['C', 'NC', 'C', 'NC', 'NC', 'C', 'NC', 'C', 'C', 'C'], ['C', 'NC', 'C', 'NC', 'NC', 'NC', 'C', 'C', 'C', 'C'], ['NC', 'NC', 'C', 'NC', 'C', 'C', 'NC', 'C', 'NC', 'C'], ['C', 'NC', 'C', 'NC', 'NC', 'NC', 'NC', 'C', 'C', 'C'], ['C', 'NC', 'C', 'NC', 'C', 'NC', 'NC', 'C', 'C', 'C']]}\n"
          ]
        }
      ]
    },
    {
      "cell_type": "markdown",
      "source": [
        "In the performed questionnaire about gang tattoos, we used ten questions:\n",
        "\n",
        "1. \"What specific symbols are present in this tattoo?\"\n",
        "2. \"Is this tattoo from mafia or gang?\"\n",
        "3.  \"What does this symbol represent in the context of mafia or gang affiliation?\"\n",
        "4. \"Is this tattoo from a *group name* member?\"\n",
        "5. \"Where on the body is the tattoo located?\"\n",
        "6. \"Is there any signifiance to the placement of this tattoo?\"\n",
        "7. \"Which is the gang that could use this tattoo?\"\n",
        "8. \"Does this photo include a *subject related to the gang which is not present*\"\n",
        "9. \"Is this tattoo colored or not?\"\n",
        "10. \"What is the color of the tattoo?\"\n",
        "\n",
        "We are going to measure four metrics:\n",
        "1. TP(True Positive): the answer given by the model is positive, and the answer is positive, so it is signed as correct;\n",
        "2. TN(True Negative): the answer given by the model is negative, and the answer is negative, so it is signed as correct;\n",
        "3. FP(False Positive): the answer given by the model is positive, but in reality it is supposed to be negative, so it is signed as incorrect;\n",
        "4. FN(False Negative): the answer given by the model is negative, but in reality it is supposed to be positive, so it is signed as incorrect;"
      ],
      "metadata": {
        "id": "RAQ97TX-mgxO"
      }
    },
    {
      "cell_type": "code",
      "source": [
        "TP = 0\n",
        "TN = 0\n",
        "FP = 0\n",
        "FN = 0\n",
        "\n",
        "TP_tot = []\n",
        "TN_tot = []\n",
        "FP_tot = []\n",
        "FN_tot = []"
      ],
      "metadata": {
        "id": "fma2CqiL7IKL"
      },
      "execution_count": null,
      "outputs": []
    },
    {
      "cell_type": "markdown",
      "source": [
        "We compute the four arrays according to the answers."
      ],
      "metadata": {
        "id": "pk5g-mC47NaG"
      }
    },
    {
      "cell_type": "code",
      "source": [
        "for l in range(10):\n",
        "  for i in gruppi.values():\n",
        "    # i=0 : [[\"C\",\"NC\",\"C\",...],[...],...]\n",
        "      for j in range(len(i)):\n",
        "      #j=0 : [\"C\",\"NC\",\"C\",...]\n",
        "        if l == 3:\n",
        "          if i[j][l] == 'C':\n",
        "            TP += 1\n",
        "          else:\n",
        "            FN += 1\n",
        "        elif l == 7:\n",
        "          if i[j][l] == 'C':\n",
        "            TN += 1\n",
        "          else:\n",
        "            FP += 1\n",
        "        else:\n",
        "          if i[j][l] == 'C':\n",
        "            TP += 1\n",
        "          else:\n",
        "            FP += 1\n",
        "  FN_tot.append(FN)\n",
        "  TP_tot.append(TP)\n",
        "  FP_tot.append(FP)\n",
        "  TN_tot.append(TN)\n",
        "  FP=0\n",
        "  FN=0\n",
        "  TN=0\n",
        "  TP=0\n",
        "\n",
        "print(\"FP_TOT is \", FP_tot)\n",
        "print(\"TP_tot is\" , TP_tot)\n",
        "print(\"FN_tot is\", FN_tot)\n",
        "print(\"TN_tot is\", TN_tot)"
      ],
      "metadata": {
        "colab": {
          "base_uri": "https://localhost:8080/"
        },
        "id": "ygNhh1lCxgqj",
        "outputId": "72ea2bc6-52a6-4bf1-fc7b-4b1f723e9385",
        "collapsed": true
      },
      "execution_count": null,
      "outputs": [
        {
          "output_type": "stream",
          "name": "stdout",
          "text": [
            "FP_TOT is  [24, 43, 32, 0, 20, 49, 59, 24, 8, 10]\n",
            "TP_tot is [53, 34, 45, 16, 57, 28, 18, 0, 69, 67]\n",
            "FN_tot is [0, 0, 0, 61, 0, 0, 0, 0, 0, 0]\n",
            "TN_tot is [0, 0, 0, 0, 0, 0, 0, 53, 0, 0]\n"
          ]
        }
      ]
    },
    {
      "cell_type": "markdown",
      "source": [
        "Now we'll calculate the accuracy, the precision, the recall and the f1 score.\n",
        "\n",
        "Accuracy -> ratio of TP and TN to the total number of samples\n",
        "\n",
        "Precision -> ratio of TP to the sum of TP and FP\n",
        "\n",
        "Recall -> ratio of TP to the sum of TP and FN\n",
        "\n",
        "F1 Score -> harmonic mean of precision and recall"
      ],
      "metadata": {
        "id": "_IFTTNpCzslV"
      }
    },
    {
      "cell_type": "code",
      "source": [
        "#Total number of samples\n",
        "tot = sum(TP_tot) + sum(TN_tot) +sum(FP_tot) + sum(FN_tot)\n",
        "#Accuracy\n",
        "acc = (sum(TP_tot) + sum(TN_tot))/tot\n",
        "\n",
        "#Precision\n",
        "prec = sum(TP_tot)/(sum(TP_tot) + sum(FP_tot))\n",
        "\n",
        "#Recall\n",
        "rec = sum(TP_tot)/(sum(TP_tot) + sum(FN_tot))\n",
        "\n",
        "#F1 Score\n",
        "f1_score = (2 * prec * rec)/(prec + rec)\n",
        "\n",
        "print(\"The accuracy is\" , acc)\n",
        "print(\"The precision is\", prec)\n",
        "print(\"The recall is\", rec)\n",
        "print(\"The F1 Score is\", f1_score)\n"
      ],
      "metadata": {
        "id": "NfQVgh4BzdHa",
        "colab": {
          "base_uri": "https://localhost:8080/"
        },
        "outputId": "edd1f263-3a81-49a8-9a34-96ab4ddeaf8d"
      },
      "execution_count": null,
      "outputs": [
        {
          "output_type": "stream",
          "name": "stdout",
          "text": [
            "The accuracy is 0.5714285714285714\n",
            "The precision is 0.5899390243902439\n",
            "The recall is 0.8638392857142857\n",
            "The F1 Score is 0.7010869565217391\n"
          ]
        }
      ]
    }
  ]
}