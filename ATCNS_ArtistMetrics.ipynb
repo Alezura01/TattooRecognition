{
  "nbformat": 4,
  "nbformat_minor": 0,
  "metadata": {
    "colab": {
      "provenance": [],
      "authorship_tag": "ABX9TyNpebO2nrhXr+xr4sWD6CZ9",
      "include_colab_link": true
    },
    "kernelspec": {
      "name": "python3",
      "display_name": "Python 3"
    },
    "language_info": {
      "name": "python"
    }
  },
  "cells": [
    {
      "cell_type": "markdown",
      "metadata": {
        "id": "view-in-github",
        "colab_type": "text"
      },
      "source": [
        "<a href=\"https://colab.research.google.com/github/Alezura01/TattooRecognition/blob/main/ATCNS_ArtistMetrics.ipynb\" target=\"_parent\"><img src=\"https://colab.research.google.com/assets/colab-badge.svg\" alt=\"Open In Colab\"/></a>"
      ]
    },
    {
      "cell_type": "markdown",
      "source": [
        "Sto importando il file con tutte le risposte del questionario."
      ],
      "metadata": {
        "id": "8QPXcCeKmTYJ"
      }
    },
    {
      "cell_type": "code",
      "source": [
        "import json\n",
        "import requests\n",
        "\n",
        "#Link of the file with all the answers for the gang tattoos.\n",
        "github_raw_url = \"https://raw.githubusercontent.com/Alezura01/TattooRecognition/main/tattooArtist.jsonl\"\n",
        "\n",
        "response = requests.get(github_raw_url)\n",
        "response_text = response.text\n",
        "righe = response_text.splitlines()\n",
        "\n",
        "tabella = []\n",
        "gruppi={}\n",
        "\n",
        "#This \"For\" will read the file line by line, creating an array per line and, when it encounters something different from \"N\" or \"C\", in our case is a number, it adds the array\n",
        "#to a table and creates an element of the dictionary with the name in the line.\n",
        "# (for example: 1Bloods, it will create as first element of the dictionary \"Bloods\":[[\"C\",\"NC\",...],[...],...))\n",
        "for riga in righe:\n",
        "  if riga[0]==\"N\" or riga[0]==\"C\" :\n",
        "    tabella.append(riga.split())\n",
        "  else:\n",
        "    gruppi[riga[1:]]=tabella\n",
        "    tabella = []\n",
        "\n",
        "print(gruppi)\n",
        "\n"
      ],
      "metadata": {
        "id": "6Mf2fonNDOkc",
        "outputId": "b6608a1e-81de-4a22-c488-c89d8d1dd471",
        "colab": {
          "base_uri": "https://localhost:8080/"
        }
      },
      "execution_count": null,
      "outputs": [
        {
          "output_type": "stream",
          "name": "stdout",
          "text": [
            "{'LillyMeraviglia': [['NC', 'C', 'NC', 'C', 'NC'], ['NC', 'C', 'NC', 'NC', 'C'], ['NC', 'NC', 'NC', 'NC', 'C'], ['NC', 'NC', 'NC', 'C', 'C'], ['NC', 'NC', 'NC', 'NC', 'NC'], ['C', 'C', 'NC', 'NC', 'C'], ['C', 'C', 'NC', 'C', 'C'], ['NC', 'C', 'NC', 'C', 'C'], ['NC', 'C', 'NC', 'C', 'NC'], ['NC', 'C', 'NC', 'C', 'C']], 'MarcoGaldo': [['C', 'C', 'C', 'C', 'C'], ['C', 'C', 'C', 'C', 'C'], ['C', 'C', 'NC', 'C', 'C'], ['C', 'C', 'C', 'NC', 'C'], ['C', 'C', 'NC', 'C', 'C'], ['C', 'C', 'C', 'C', 'C'], ['C', 'C', 'C', 'NC', 'C'], ['C', 'C', 'C', 'C', 'C'], ['C', 'C', 'NC', 'C', 'C'], ['C', 'C', 'C', 'C', 'C']], 'AmandaToy': [['C', 'C', 'C', 'C', 'NC'], ['C', 'C', 'C', 'C', 'NC'], ['NC', 'NC', 'C', 'C', 'C'], ['C', 'NC', 'C', 'NC', 'NC'], ['C', 'C', 'C', 'C', 'NC'], ['C', 'NC', 'C', 'C', 'C'], ['C', 'NC', 'C', 'C', 'C'], ['C', 'C', 'C', 'C', 'C'], ['C', 'C', 'C', 'C', 'C'], ['C', 'C', 'NC', 'C', 'C']], 'MoGanji': [['C', 'C', 'C', 'C', 'C'], ['C', 'C', 'C', 'C', 'C'], ['C', 'C', 'NC', 'C', 'C'], ['C', 'C', 'NC', 'C', 'C'], ['C', 'C', 'C', 'C', 'C'], ['C', 'C', 'C', 'C', 'C'], ['C', 'C', 'C', 'C', 'C'], ['C', 'C', 'C', 'C', 'C'], ['C', 'C', 'NC', 'C', 'C'], ['C', 'C', 'C', 'C', 'C']], 'ChaimMachlev': [['C', 'C', 'NC', 'C', 'C'], ['C', 'NC', 'NC', 'C', 'C'], ['C', 'C', 'C', 'NC', 'NC'], ['C', 'C', 'NC', 'C', 'NC', 'C'], ['C', 'C', 'C', 'C', 'NC'], ['C', 'NC', 'NC', 'C', 'C'], ['C', 'NC', 'NC', 'C', 'C'], ['C', 'C', 'C', 'C', 'NC'], ['C', 'C', 'C', 'C', 'C'], ['C', 'C', 'C', 'C', 'C']]}\n"
          ]
        }
      ]
    },
    {
      "cell_type": "markdown",
      "source": [],
      "metadata": {
        "id": "U0VvjFLOc9mR"
      }
    },
    {
      "cell_type": "markdown",
      "source": [
        "In the performed questionnaire about artists, we used five questions:\n",
        "\n",
        "1. \"What are the defining artistic styles of the tattoos (e.g., line art, geometric, realistic)?\"\n",
        "2. \"What unique characteristics stand out in these tattoos?\"\n",
        "3.  \"What symbol is present in this tattoo?\"\n",
        "4. \"What techniques are used in this tattoo?\"\n",
        "5. \"What color palettes are used in the tattoo?\"\n",
        "\n",
        "We are going to measure four metrics:\n",
        "1. TP(True Positive): the answer given by the model is positive, and the answer is positive, so it is signed as correct;\n",
        "2. TN(True Negative): the answer given by the model is negative, and the answer is negative, so it is signed as correct;\n",
        "3. FP(False Positive): the answer given by the model is positive, but in reality it is supposed to be negative, so it is signed as incorrect;\n",
        "4. FN(False Negative): the answer given by the model is negative, but in reality it is supposed to be positive, so it is signed as incorrect;"
      ],
      "metadata": {
        "id": "RAQ97TX-mgxO"
      }
    },
    {
      "cell_type": "code",
      "source": [
        "TP = 0\n",
        "TN = 0\n",
        "FP = 0\n",
        "FN = 0\n",
        "\n",
        "TP_tot = []\n",
        "TN_tot = []\n",
        "FP_tot = []\n",
        "FN_tot = []"
      ],
      "metadata": {
        "id": "fma2CqiL7IKL"
      },
      "execution_count": null,
      "outputs": []
    },
    {
      "cell_type": "markdown",
      "source": [
        "We compute the four arrays according to the answers."
      ],
      "metadata": {
        "id": "pk5g-mC47NaG"
      }
    },
    {
      "cell_type": "code",
      "source": [
        "for l in range(5):\n",
        "  for i in gruppi.values():\n",
        "    # i=0 : [[\"C\",\"NC\",\"C\",...],[...],...]\n",
        "      for j in range(len(i)):\n",
        "      #j=0 : [\"C\",\"NC\",\"C\",...]\n",
        "          if i[j][l] == 'C':\n",
        "            TP += 1\n",
        "          else:\n",
        "            FP += 1\n",
        "  FN_tot.append(FN)\n",
        "  TP_tot.append(TP)\n",
        "  FP_tot.append(FP)\n",
        "  TN_tot.append(TN)\n",
        "  FP=0\n",
        "  FN=0\n",
        "  TN=0\n",
        "  TP=0\n",
        "\n",
        "print(\"FP_TOT is \", FP_tot)\n",
        "print(\"TP_tot is\" , TP_tot)\n",
        "print(\"FN_tot is\", FN_tot)\n",
        "print(\"TN_tot is\", TN_tot)"
      ],
      "metadata": {
        "colab": {
          "base_uri": "https://localhost:8080/"
        },
        "id": "ygNhh1lCxgqj",
        "outputId": "2daaee1e-9b9e-4f29-99b6-5afef3ecf435",
        "collapsed": true
      },
      "execution_count": null,
      "outputs": [
        {
          "output_type": "stream",
          "name": "stdout",
          "text": [
            "FP_TOT is  [9, 10, 22, 0, 11, 9, 10, 22, 0, 11, 9, 10, 22, 0, 11, 9, 10, 22, 0, 11, 9, 10, 22, 8, 11]\n",
            "TP_tot is [41, 40, 28, 42, 39, 41, 40, 28, 42, 39, 41, 40, 28, 42, 39, 41, 40, 28, 42, 39, 41, 40, 28, 42, 39]\n",
            "FN_tot is [0, 0, 0, 8, 0, 0, 0, 0, 8, 0, 0, 0, 0, 8, 0, 0, 0, 0, 8, 0, 0, 0, 0, 0, 0]\n",
            "TN_tot is [0, 0, 0, 0, 0, 0, 0, 0, 0, 0, 0, 0, 0, 0, 0, 0, 0, 0, 0, 0, 0, 0, 0, 0, 0]\n"
          ]
        }
      ]
    },
    {
      "cell_type": "markdown",
      "source": [
        "Now we'll calculate the accuracy, the precision, the recall and the f1 score.\n",
        "\n",
        "Accuracy -> ratio of TP and TN to the total number of samples\n",
        "\n",
        "Precision -> ratio of TP to the sum of TP and FP\n",
        "\n",
        "Recall -> ratio of TP to the sum of TP and FN\n",
        "\n",
        "F1 Score -> harmonic mean of precision and recall"
      ],
      "metadata": {
        "id": "_IFTTNpCzslV"
      }
    },
    {
      "cell_type": "code",
      "source": [
        "#Total number of samples\n",
        "tot = sum(TP_tot) + sum(TN_tot) +sum(FP_tot) + sum(FN_tot)\n",
        "#Accuracy\n",
        "acc = (sum(TP_tot) + sum(TN_tot))/tot\n",
        "\n",
        "#Precision\n",
        "prec = sum(TP_tot)/(sum(TP_tot) + sum(FP_tot))\n",
        "\n",
        "#Recall\n",
        "rec = sum(TP_tot)/(sum(TP_tot) + sum(FN_tot))\n",
        "\n",
        "#F1 Score\n",
        "f1_score = (2 * prec * rec)/(prec + rec)\n",
        "\n",
        "print(\"The accuracy is\" , acc)\n",
        "print(\"The precision is\", prec)\n",
        "print(\"The recall is\", rec)\n",
        "print(\"The F1 Score is\", f1_score)\n"
      ],
      "metadata": {
        "id": "NfQVgh4BzdHa",
        "colab": {
          "base_uri": "https://localhost:8080/"
        },
        "outputId": "178e404d-763c-4730-8139-02173e777e91"
      },
      "execution_count": null,
      "outputs": [
        {
          "output_type": "stream",
          "name": "stdout",
          "text": [
            "The accuracy is 0.76\n",
            "The precision is 0.7799671592775042\n",
            "The recall is 0.9674134419551935\n",
            "The F1 Score is 0.8636363636363638\n"
          ]
        }
      ]
    }
  ]
}