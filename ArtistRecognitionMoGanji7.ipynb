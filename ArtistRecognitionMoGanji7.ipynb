{
  "cells": [
    {
      "cell_type": "markdown",
      "metadata": {
        "id": "view-in-github",
        "colab_type": "text"
      },
      "source": [
        "<a href=\"https://colab.research.google.com/github/musatea/TattooRecognition/blob/Artists/ArtistRecognitionMoGanji7.ipynb\" target=\"_parent\"><img src=\"https://colab.research.google.com/assets/colab-badge.svg\" alt=\"Open In Colab\"/></a>"
      ]
    },
    {
      "cell_type": "code",
      "execution_count": null,
      "metadata": {
        "id": "v8Vn_K4YKQai"
      },
      "outputs": [],
      "source": [
        "!pip install -q transformers==4.32.0 accelerate tiktoken einops\n",
        "!pip install -q transformers_stream_generator==0.0.4\n",
        "!pip install -q scipy torchvision pillow tensorboard matplotlib\n",
        "!pip install -q optimum\n",
        "!pip install -q auto-gptq"
      ]
    },
    {
      "cell_type": "code",
      "execution_count": null,
      "metadata": {
        "id": "eGEnz1REKkqi"
      },
      "outputs": [],
      "source": [
        "from transformers import AutoModelForCausalLM, AutoTokenizer\n",
        "import torch\n",
        "torch.manual_seed(1234)\n",
        "\n",
        "# Note: The default behavior now has injection attack prevention off.\n",
        "tokenizer = AutoTokenizer.from_pretrained(\"Qwen/Qwen-VL-Chat-Int4\", trust_remote_code=True)\n",
        "\n",
        "# use cuda device\n",
        "model = AutoModelForCausalLM.from_pretrained(\"Qwen/Qwen-VL-Chat-Int4\", device_map=\"cuda\", trust_remote_code=True).eval()"
      ]
    },
    {
      "cell_type": "code",
      "execution_count": 26,
      "metadata": {
        "id": "Ag7RZtxN38r-"
      },
      "outputs": [],
      "source": [
        "img='https://drive.google.com/uc?export=view&id=1YFuXsF4RDMo952Z8H1-m2WVWNzebTj75'"
      ]
    },
    {
      "cell_type": "code",
      "execution_count": 27,
      "metadata": {
        "colab": {
          "base_uri": "https://localhost:8080/"
        },
        "id": "QM-mRo1vrWoQ",
        "outputId": "88c50863-832f-42db-f4a1-8666830cf09e"
      },
      "outputs": [
        {
          "output_type": "stream",
          "name": "stdout",
          "text": [
            "The tattoo on the back of the thigh is an example of line art style.\n"
          ]
        }
      ],
      "source": [
        "# 1st dialogue turn\n",
        "query = tokenizer.from_list_format([\n",
        "    {'image': img},\n",
        "    {'text': 'What are the defining artistic styles of the tattoos (e.g., line art, geometric, realistic)? '},\n",
        "])\n",
        "response, history = model.chat(tokenizer, query=query, history=None)\n",
        "print(response)"
      ]
    },
    {
      "cell_type": "code",
      "execution_count": 28,
      "metadata": {
        "colab": {
          "base_uri": "https://localhost:8080/"
        },
        "id": "JAng5lA-Kp82",
        "outputId": "501ae82a-10aa-4f8b-e307-f91202781772"
      },
      "outputs": [
        {
          "output_type": "stream",
          "name": "stdout",
          "text": [
            "This geometric tattoo of an elephant's head on the lower back features a unique line drawing style, with the elephant's head composed of various geometric shapes. The lines and shapes used in this tattoo create a clean and modern look. The contrast between the elephant's head and the rest of the body is emphasized by the black ink color, making the tattoo more prominent and eye-catching.\n"
          ]
        }
      ],
      "source": [
        "query = tokenizer.from_list_format([\n",
        "    {'image': img},\n",
        "    {'text': 'What unique characteristics stand out in this tattoo?'},\n",
        "])\n",
        "response, history = model.chat(tokenizer, query=query, history=None)\n",
        "print(response)"
      ]
    },
    {
      "cell_type": "code",
      "execution_count": 29,
      "metadata": {
        "colab": {
          "base_uri": "https://localhost:8080/"
        },
        "id": "ClSzTD8yq5jy",
        "outputId": "7d478b6a-02ed-468d-b6dd-7cf096ee49db"
      },
      "outputs": [
        {
          "output_type": "stream",
          "name": "stdout",
          "text": [
            "There is no symbol \"M\" in the tattoo on the woman's thigh.\n"
          ]
        }
      ],
      "source": [
        "query = tokenizer.from_list_format([\n",
        "    {'image': img},\n",
        "    {'text': 'What symbol is present in this tattoo,not symbol M? '},\n",
        "])\n",
        "response, history = model.chat(tokenizer, query=query, history=None)\n",
        "print(response)"
      ]
    },
    {
      "cell_type": "code",
      "execution_count": 30,
      "metadata": {
        "colab": {
          "base_uri": "https://localhost:8080/"
        },
        "id": "Q1BDRN_WrILI",
        "outputId": "85789f41-144e-45a5-d327-e889ee12558c"
      },
      "outputs": [
        {
          "output_type": "stream",
          "name": "stdout",
          "text": [
            "The tattoo in the image uses a combination of black lines and geometric shapes to create the elephant's head. The lines form the overall structure of the elephant, while the geometric shapes are used to add more details to the face and ears.\n"
          ]
        }
      ],
      "source": [
        "query = tokenizer.from_list_format([\n",
        "    {'image': img},\n",
        "    {'text': 'What techniques are used in this tattoo?'},\n",
        "])\n",
        "response, history = model.chat(tokenizer, query=query, history=None)\n",
        "print(response)"
      ]
    },
    {
      "cell_type": "code",
      "execution_count": 31,
      "metadata": {
        "colab": {
          "base_uri": "https://localhost:8080/"
        },
        "id": "wgnf49m3rk_b",
        "outputId": "9b22f134-d759-4dc4-c795-4916e555f564"
      },
      "outputs": [
        {
          "output_type": "stream",
          "name": "stdout",
          "text": [
            "The tattoo uses black and white color palettes.\n"
          ]
        }
      ],
      "source": [
        "query = tokenizer.from_list_format([\n",
        "    {'image': img},\n",
        "    {'text': 'What color palettes are used in the tattoo?'},\n",
        "])\n",
        "response, history = model.chat(tokenizer, query=query, history=None)\n",
        "print(response)"
      ]
    },
    {
      "cell_type": "code",
      "execution_count": 32,
      "metadata": {
        "colab": {
          "base_uri": "https://localhost:8080/"
        },
        "id": "0oPUwzJcr6Ec",
        "outputId": "75db494a-54bc-4a2a-f346-53b952256efd"
      },
      "outputs": [
        {
          "output_type": "stream",
          "name": "stdout",
          "text": [
            "The tattoo artist who made this tattoo is未知.\n"
          ]
        }
      ],
      "source": [
        "query = tokenizer.from_list_format([\n",
        "    {'image': img},\n",
        "    {'text': 'Who do you think is the tattoo artist who made this tattoo?'},\n",
        "])\n",
        "response, history = model.chat(tokenizer, query=query, history=None)\n",
        "print(response)"
      ]
    }
  ],
  "metadata": {
    "accelerator": "GPU",
    "colab": {
      "gpuType": "T4",
      "provenance": [],
      "include_colab_link": true
    },
    "kernelspec": {
      "display_name": "Python 3",
      "name": "python3"
    },
    "language_info": {
      "name": "python"
    }
  },
  "nbformat": 4,
  "nbformat_minor": 0
}