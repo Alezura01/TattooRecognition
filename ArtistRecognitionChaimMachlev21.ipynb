{
  "cells": [
    {
      "cell_type": "markdown",
      "metadata": {
        "id": "view-in-github",
        "colab_type": "text"
      },
      "source": [
        "<a href=\"https://colab.research.google.com/github/musatea/TattooRecognition/blob/Artists/ArtistRecognitionChaimMachlev21.ipynb\" target=\"_parent\"><img src=\"https://colab.research.google.com/assets/colab-badge.svg\" alt=\"Open In Colab\"/></a>"
      ]
    },
    {
      "cell_type": "code",
      "execution_count": null,
      "metadata": {
        "id": "v8Vn_K4YKQai"
      },
      "outputs": [],
      "source": [
        "!pip install -q transformers==4.32.0 accelerate tiktoken einops\n",
        "!pip install -q transformers_stream_generator==0.0.4\n",
        "!pip install -q scipy torchvision pillow tensorboard matplotlib\n",
        "!pip install -q optimum\n",
        "!pip install -q auto-gptq"
      ]
    },
    {
      "cell_type": "code",
      "execution_count": null,
      "metadata": {
        "id": "eGEnz1REKkqi"
      },
      "outputs": [],
      "source": [
        "from transformers import AutoModelForCausalLM, AutoTokenizer\n",
        "import torch\n",
        "torch.manual_seed(1234)\n",
        "\n",
        "# Note: The default behavior now has injection attack prevention off.\n",
        "tokenizer = AutoTokenizer.from_pretrained(\"Qwen/Qwen-VL-Chat-Int4\", trust_remote_code=True)\n",
        "\n",
        "# use cuda device\n",
        "model = AutoModelForCausalLM.from_pretrained(\"Qwen/Qwen-VL-Chat-Int4\", device_map=\"cuda\", trust_remote_code=True).eval()"
      ]
    },
    {
      "cell_type": "code",
      "execution_count": 85,
      "metadata": {
        "id": "Ag7RZtxN38r-"
      },
      "outputs": [],
      "source": [
        "img='https://drive.google.com/uc?export=view&id=1ldYYxMDXkSRvR5mdjZtA3NFTmUNcbzQ3'"
      ]
    },
    {
      "cell_type": "code",
      "execution_count": 86,
      "metadata": {
        "id": "QM-mRo1vrWoQ",
        "colab": {
          "base_uri": "https://localhost:8080/"
        },
        "outputId": "f218fac8-79d1-4e36-f207-21a8b8b36983"
      },
      "outputs": [
        {
          "output_type": "stream",
          "name": "stdout",
          "text": [
            "The tattoos in the image can be classified as geometric and line art.\n"
          ]
        }
      ],
      "source": [
        "# 1st dialogue turn\n",
        "query = tokenizer.from_list_format([\n",
        "    {'image': img},\n",
        "    {'text': 'What are the defining artistic styles of the tattoos (e.g., line art, geometric, realistic)? '},\n",
        "])\n",
        "response, history = model.chat(tokenizer, query=query, history=None)\n",
        "print(response)"
      ]
    },
    {
      "cell_type": "code",
      "execution_count": 87,
      "metadata": {
        "id": "JAng5lA-Kp82",
        "colab": {
          "base_uri": "https://localhost:8080/"
        },
        "outputId": "356ee89e-db15-4f1c-bbf6-f29d5eadad00"
      },
      "outputs": [
        {
          "output_type": "stream",
          "name": "stdout",
          "text": [
            "The unique characteristics that stand out in this tattoo are the use of lines and geometric shapes, which create a distinctive and abstract design. The artist has utilized a combination of various lines and shapes to create a visually captivating piece that appears almost like a sketch. This design choice sets it apart from more traditional tattoo styles, making it a bold and modern take on the art of tattooing.\n"
          ]
        }
      ],
      "source": [
        "query = tokenizer.from_list_format([\n",
        "    {'image': img},\n",
        "    {'text': 'What unique characteristics stand out in this tattoo?'},\n",
        "])\n",
        "response, history = model.chat(tokenizer, query=query, history=None)\n",
        "print(response)"
      ]
    },
    {
      "cell_type": "code",
      "execution_count": 88,
      "metadata": {
        "id": "ClSzTD8yq5jy",
        "colab": {
          "base_uri": "https://localhost:8080/"
        },
        "outputId": "c427c72d-5ddf-4898-c026-e76e6345409c"
      },
      "outputs": [
        {
          "output_type": "stream",
          "name": "stdout",
          "text": [
            "The tattoo features a series of geometric shapes, including lines and squares, on the arm and forearm. These symbols are commonly associated with tattoos that represent abstract concepts, creativity, or personal meaning. The design may have been chosen by the individual to express their personality, interests, or to serve as a visual representation of their experiences or values.\n"
          ]
        }
      ],
      "source": [
        "query = tokenizer.from_list_format([\n",
        "    {'image': img},\n",
        "    {'text': 'What symbol is present in this tattoo? '},\n",
        "])\n",
        "response, history = model.chat(tokenizer, query=query, history=None)\n",
        "print(response)"
      ]
    },
    {
      "cell_type": "code",
      "execution_count": 89,
      "metadata": {
        "id": "Q1BDRN_WrILI",
        "colab": {
          "base_uri": "https://localhost:8080/"
        },
        "outputId": "15b94f5f-13e4-4790-e3ca-f1b23b37d8ce"
      },
      "outputs": [
        {
          "output_type": "stream",
          "name": "stdout",
          "text": [
            "The tattoo features geometric and linear designs, creating a pattern on the person's arm. The patterns are made up of various shapes and lines, which gives the tattoo a unique and modern look.\n"
          ]
        }
      ],
      "source": [
        "query = tokenizer.from_list_format([\n",
        "    {'image': img},\n",
        "    {'text': 'What techniques are used in this tattoo?'},\n",
        "])\n",
        "response, history = model.chat(tokenizer, query=query, history=None)\n",
        "print(response)"
      ]
    },
    {
      "cell_type": "code",
      "execution_count": 90,
      "metadata": {
        "id": "wgnf49m3rk_b",
        "colab": {
          "base_uri": "https://localhost:8080/"
        },
        "outputId": "d1736e66-8551-4545-cded-47cabcefce0d"
      },
      "outputs": [
        {
          "output_type": "stream",
          "name": "stdout",
          "text": [
            "The tattoo uses black and grey color palettes.\n"
          ]
        }
      ],
      "source": [
        "query = tokenizer.from_list_format([\n",
        "    {'image': img},\n",
        "    {'text': 'What color palettes are used in the tattoo?'},\n",
        "])\n",
        "response, history = model.chat(tokenizer, query=query, history=None)\n",
        "print(response)"
      ]
    },
    {
      "cell_type": "code",
      "execution_count": 91,
      "metadata": {
        "id": "0oPUwzJcr6Ec",
        "colab": {
          "base_uri": "https://localhost:8080/"
        },
        "outputId": "6f5cda51-2972-4405-d558-e3b4ac87f019"
      },
      "outputs": [
        {
          "output_type": "stream",
          "name": "stdout",
          "text": [
            "I am an AI language model and cannot make assumptions about the tattoo artist without more information or evidence. However, based on the image alone, the tattoo artist has created a geometric tattoo on the individual's arm, which appears to be linear and minimalist in style. The tattoo consists of lines and shapes that create a sense of movement and perspective.\n"
          ]
        }
      ],
      "source": [
        "query = tokenizer.from_list_format([\n",
        "    {'image': img},\n",
        "    {'text': 'Who do you think is the tattoo artist who made this tattoo?'},\n",
        "])\n",
        "response, history = model.chat(tokenizer, query=query, history=None)\n",
        "print(response)"
      ]
    }
  ],
  "metadata": {
    "accelerator": "GPU",
    "colab": {
      "gpuType": "T4",
      "provenance": [],
      "include_colab_link": true
    },
    "kernelspec": {
      "display_name": "Python 3",
      "name": "python3"
    },
    "language_info": {
      "name": "python"
    }
  },
  "nbformat": 4,
  "nbformat_minor": 0
}