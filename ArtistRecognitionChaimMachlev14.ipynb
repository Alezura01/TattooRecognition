{
  "cells": [
    {
      "cell_type": "markdown",
      "metadata": {
        "id": "view-in-github",
        "colab_type": "text"
      },
      "source": [
        "<a href=\"https://colab.research.google.com/github/musatea/TattooRecognition/blob/Artists/ArtistRecognitionChaimMachlev14.ipynb\" target=\"_parent\"><img src=\"https://colab.research.google.com/assets/colab-badge.svg\" alt=\"Open In Colab\"/></a>"
      ]
    },
    {
      "cell_type": "code",
      "execution_count": null,
      "metadata": {
        "id": "v8Vn_K4YKQai"
      },
      "outputs": [],
      "source": [
        "!pip install -q transformers==4.32.0 accelerate tiktoken einops\n",
        "!pip install -q transformers_stream_generator==0.0.4\n",
        "!pip install -q scipy torchvision pillow tensorboard matplotlib\n",
        "!pip install -q optimum\n",
        "!pip install -q auto-gptq"
      ]
    },
    {
      "cell_type": "code",
      "execution_count": null,
      "metadata": {
        "id": "eGEnz1REKkqi"
      },
      "outputs": [],
      "source": [
        "from transformers import AutoModelForCausalLM, AutoTokenizer\n",
        "import torch\n",
        "torch.manual_seed(1234)\n",
        "\n",
        "# Note: The default behavior now has injection attack prevention off.\n",
        "tokenizer = AutoTokenizer.from_pretrained(\"Qwen/Qwen-VL-Chat-Int4\", trust_remote_code=True)\n",
        "\n",
        "# use cuda device\n",
        "model = AutoModelForCausalLM.from_pretrained(\"Qwen/Qwen-VL-Chat-Int4\", device_map=\"cuda\", trust_remote_code=True).eval()"
      ]
    },
    {
      "cell_type": "code",
      "execution_count": 64,
      "metadata": {
        "id": "Ag7RZtxN38r-"
      },
      "outputs": [],
      "source": [
        "img='https://drive.google.com/uc?export=view&id=1kEra9G3ufv9WiX3CYPFdowDaUglzP0XQ'"
      ]
    },
    {
      "cell_type": "code",
      "execution_count": 65,
      "metadata": {
        "id": "QM-mRo1vrWoQ",
        "colab": {
          "base_uri": "https://localhost:8080/"
        },
        "outputId": "a846bc88-012e-4860-b2d4-5138575305ce"
      },
      "outputs": [
        {
          "output_type": "stream",
          "name": "stdout",
          "text": [
            "The tattoos in the image can be categorized as line art tattoos. Line art tattoos use thin black lines to create designs, giving them a unique and minimalist appearance. In this image, the tattoos on the arm and arm feature abstract and geometric designs, which are characteristic of line art tattoos.\n"
          ]
        }
      ],
      "source": [
        "# 1st dialogue turn\n",
        "query = tokenizer.from_list_format([\n",
        "    {'image': img},\n",
        "    {'text': 'What are the defining artistic styles of the tattoos (e.g., line art, geometric, realistic)? '},\n",
        "])\n",
        "response, history = model.chat(tokenizer, query=query, history=None)\n",
        "print(response)"
      ]
    },
    {
      "cell_type": "code",
      "execution_count": 66,
      "metadata": {
        "id": "JAng5lA-Kp82",
        "colab": {
          "base_uri": "https://localhost:8080/"
        },
        "outputId": "ef093f8d-0b90-4252-b3b3-d2e79f188e9a"
      },
      "outputs": [
        {
          "output_type": "stream",
          "name": "stdout",
          "text": [
            "The unique characteristics that stand out in this tattoo are the intricate linear design and the snake-like pattern. The tattoo artist has skillfully created a snake or a long, winding line with a pen tip, which gives the illusion of a snake slithering through the arm. The linear design and the way the lines flow together create a visually captivating tattoo that is both artistic and intricate.\n"
          ]
        }
      ],
      "source": [
        "query = tokenizer.from_list_format([\n",
        "    {'image': img},\n",
        "    {'text': 'What unique characteristics stand out in this tattoo?'},\n",
        "])\n",
        "response, history = model.chat(tokenizer, query=query, history=None)\n",
        "print(response)"
      ]
    },
    {
      "cell_type": "code",
      "execution_count": 67,
      "metadata": {
        "id": "ClSzTD8yq5jy",
        "colab": {
          "base_uri": "https://localhost:8080/"
        },
        "outputId": "530f1bbb-3ef6-418b-b44e-cd48cf2cc6da"
      },
      "outputs": [
        {
          "output_type": "stream",
          "name": "stdout",
          "text": [
            "The tattoo features a snake, which is a symbol of transformation, wisdom, and sometimes, spiritual growth. Snakes are often associated with the cycle of life and death, and their ability to shed their skin represents renewal and the impermanence of material things. This makes the snake a fitting symbol for those who want to convey a deeper meaning or personal story through their tattoo.\n"
          ]
        }
      ],
      "source": [
        "query = tokenizer.from_list_format([\n",
        "    {'image': img},\n",
        "    {'text': 'What symbol is present in this tattoo? '},\n",
        "])\n",
        "response, history = model.chat(tokenizer, query=query, history=None)\n",
        "print(response)"
      ]
    },
    {
      "cell_type": "code",
      "execution_count": 68,
      "metadata": {
        "id": "Q1BDRN_WrILI",
        "colab": {
          "base_uri": "https://localhost:8080/"
        },
        "outputId": "7e304cb7-30c0-4f99-896a-9a84d07c9ed7"
      },
      "outputs": [
        {
          "output_type": "stream",
          "name": "stdout",
          "text": [
            "The tattoo in the image uses a unique and abstract design, with curved lines that create a sense of volume and three-dimensionality. The lines are black and vary in thickness, giving the piece a dynamic and visually interesting appearance. The artist has used different line styles and possibly a combination of black ink colors to create this intricate and eye-catching design.\n"
          ]
        }
      ],
      "source": [
        "query = tokenizer.from_list_format([\n",
        "    {'image': img},\n",
        "    {'text': 'What techniques are used in this tattoo?'},\n",
        "])\n",
        "response, history = model.chat(tokenizer, query=query, history=None)\n",
        "print(response)"
      ]
    },
    {
      "cell_type": "code",
      "execution_count": 69,
      "metadata": {
        "id": "wgnf49m3rk_b",
        "colab": {
          "base_uri": "https://localhost:8080/"
        },
        "outputId": "b222df4b-2508-4ff4-8fbb-05f1dc07fb1c"
      },
      "outputs": [
        {
          "output_type": "stream",
          "name": "stdout",
          "text": [
            "The tattoo uses a black color palette.\n"
          ]
        }
      ],
      "source": [
        "query = tokenizer.from_list_format([\n",
        "    {'image': img},\n",
        "    {'text': 'What color palettes are used in the tattoo?'},\n",
        "])\n",
        "response, history = model.chat(tokenizer, query=query, history=None)\n",
        "print(response)"
      ]
    },
    {
      "cell_type": "code",
      "execution_count": 70,
      "metadata": {
        "id": "0oPUwzJcr6Ec",
        "colab": {
          "base_uri": "https://localhost:8080/"
        },
        "outputId": "0e36d29a-b571-4da5-d280-68a24a800d72"
      },
      "outputs": [
        {
          "output_type": "stream",
          "name": "stdout",
          "text": [
            "I am an AI language model and cannot determine the tattoo artist who made this tattoo. However, I can tell you that this tattoo is a beautiful piece of abstract art done in black and white, with wavy lines that create a sense of movement and flow. The intricate design and skillful execution suggest that the artist is well-versed in the art of tattooing and has a talent for creating intricate, aesthetically pleasing designs.\n"
          ]
        }
      ],
      "source": [
        "query = tokenizer.from_list_format([\n",
        "    {'image': img},\n",
        "    {'text': 'Who do you think is the tattoo artist who made this tattoo?'},\n",
        "])\n",
        "response, history = model.chat(tokenizer, query=query, history=None)\n",
        "print(response)"
      ]
    }
  ],
  "metadata": {
    "accelerator": "GPU",
    "colab": {
      "gpuType": "T4",
      "provenance": [],
      "include_colab_link": true
    },
    "kernelspec": {
      "display_name": "Python 3",
      "name": "python3"
    },
    "language_info": {
      "name": "python"
    }
  },
  "nbformat": 4,
  "nbformat_minor": 0
}