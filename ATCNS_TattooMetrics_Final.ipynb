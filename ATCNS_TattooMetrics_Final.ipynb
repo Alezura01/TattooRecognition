{
  "nbformat": 4,
  "nbformat_minor": 0,
  "metadata": {
    "colab": {
      "provenance": [],
      "authorship_tag": "ABX9TyNb0Y/ZGXhcXmKlkMxC+nBV",
      "include_colab_link": true
    },
    "kernelspec": {
      "name": "python3",
      "display_name": "Python 3"
    },
    "language_info": {
      "name": "python"
    }
  },
  "cells": [
    {
      "cell_type": "markdown",
      "metadata": {
        "id": "view-in-github",
        "colab_type": "text"
      },
      "source": [
        "<a href=\"https://colab.research.google.com/github/Alezura01/TattooRecognition/blob/main/ATCNS_TattooMetrics_Final.ipynb\" target=\"_parent\"><img src=\"https://colab.research.google.com/assets/colab-badge.svg\" alt=\"Open In Colab\"/></a>"
      ]
    },
    {
      "cell_type": "markdown",
      "source": [
        "Sto importando il file con tutte le risposte del questionario.\n",
        "\n",
        "URL:\n",
        " - Original pictures: https://raw.githubusercontent.com/Alezura01/TattooRecognition/main/gangTattoo.jsonl\n",
        " - Only AI images: https://raw.githubusercontent.com/Alezura01/TattooRecognition/main/onlyAITattoo.jsonl\n",
        " - Integrating AI images: https://raw.githubusercontent.com/Alezura01/TattooRecognition/main/gangTattooWAI.jsonl"
      ],
      "metadata": {
        "id": "8QPXcCeKmTYJ"
      }
    },
    {
      "cell_type": "code",
      "source": [
        "import json\n",
        "import requests\n",
        "\n",
        "#Link of the file with all the answers for the gang tattoos.\n",
        "github_raw_url = \"https://raw.githubusercontent.com/Alezura01/TattooRecognition/main/onlyAITattoo.jsonl\"\n",
        "\n",
        "response = requests.get(github_raw_url)\n",
        "response_text = response.text\n",
        "righe = response_text.splitlines()\n",
        "\n",
        "tabella = []\n",
        "gruppi={}\n",
        "\n",
        "#This \"For\" will read the file line by line, creating an array per line and, when it encounters something different from \"N\" or \"C\", in our case is a number, it adds the array\n",
        "#to a table and creates an element of the dictionary with the name in the line.\n",
        "# (for example: 1Bloods, it will create as first element of the dictionary \"Bloods\":[[\"C\",\"NC\",...],[...],...))\n",
        "for riga in righe:\n",
        "  if riga[0]==\"N\" or riga[0]==\"C\" :\n",
        "    tabella.append(riga.split())\n",
        "  else:\n",
        "    gruppi[riga[1:]]=tabella\n",
        "    tabella = []\n",
        "\n",
        "print(gruppi)\n",
        "\n"
      ],
      "metadata": {
        "id": "6Mf2fonNDOkc",
        "outputId": "f72214d9-4063-4617-b4de-3f2003a3a34f",
        "colab": {
          "base_uri": "https://localhost:8080/"
        }
      },
      "execution_count": null,
      "outputs": [
        {
          "output_type": "stream",
          "name": "stdout",
          "text": [
            "{'Bloods': [['C', 'C', 'C', 'NC', 'C', 'NC', 'NC', 'C', 'C', 'C'], ['C', 'NC', 'NC', 'C', 'C', 'NC', 'NC', 'C', 'C', 'C'], ['C', 'C', 'C', 'NC', 'C', 'NC', 'NC', 'C', 'C', 'C'], ['NC', 'NC', 'NC', 'NC', 'C', 'NC', 'NC', 'C', 'C', 'C'], ['NC', 'C', 'NC', 'NC', 'NC', 'NC', 'NC', 'C', 'C', 'C']], 'Yakuza': [['C', 'NC', 'C', 'NC', 'NC', 'NC', 'C', 'C', 'C', 'NC'], ['C', 'NC', 'C', 'NC', 'C', 'NC', 'C', 'NC', 'C', 'C'], ['C', 'NC', 'C', 'NC', 'C', 'NC', 'NC', 'C', 'C', 'C'], ['C', 'NC', 'C', 'NC', 'NC', 'NC', 'NC', 'C', 'C', 'C'], ['C', 'NC', 'C', 'NC', 'C', 'NC', 'NC', 'C', 'C', 'C']], 'Crips': [['NC', 'NC', 'NC', 'C', 'C', 'NC', 'NC', 'C', 'C', 'C'], ['NC', 'C', 'C', 'C', 'C', 'C', 'C', 'C', 'C', 'C'], ['NC', 'C', 'C', 'NC', 'C', 'C', 'C', 'C', 'C', 'NC'], ['C', 'C', 'C', 'C', 'C', 'NC', 'NC', 'C', 'C', 'C'], ['NC', 'NC', 'NC', 'NC', 'C', 'NC', 'NC', 'C', 'C', 'C']], 'Triad': [['C', 'NC', 'NC', 'NC', 'C', 'NC', 'NC', 'C', 'C', 'C'], ['C', 'NC', 'C', 'NC', 'C', 'NC', 'NC', 'C', 'C', 'C'], ['C', 'NC', 'C', 'NC', 'C', 'NC', 'NC', 'C', 'C', 'C'], ['C', 'NC', 'C', 'NC', 'C', 'NC', 'NC', 'C', 'C', 'C'], ['C', 'NC', 'NC', 'NC', 'C', 'C', 'NC', 'C', 'C', 'C']]}\n"
          ]
        }
      ]
    },
    {
      "cell_type": "markdown",
      "source": [
        "In the performed questionnaire about gang tattoos, we used ten questions:\n",
        "\n",
        "1. \"What specific symbols are present in this tattoo?\"\n",
        "2. \"Is this tattoo from mafia or gang?\"\n",
        "3.  \"What does this symbol represent in the context of mafia or gang affiliation?\"\n",
        "4. \"Is this tattoo from a *group name* member?\"\n",
        "5. \"Where on the body is the tattoo located?\"\n",
        "6. \"Is there any signifiance to the placement of this tattoo?\"\n",
        "7. \"Which is the gang that could use this tattoo?\"\n",
        "8. \"Does this photo include a *subject related to the gang which is not present*\"\n",
        "9. \"Is this tattoo colored or not?\"\n",
        "10. \"What is the color of the tattoo?\"\n",
        "\n",
        "We are going to measure four metrics:\n",
        "1. TP(True Positive): the answer given by the model is positive, and the answer is positive, so it is signed as correct;\n",
        "2. TN(True Negative): the answer given by the model is negative, and the answer is negative, so it is signed as correct;\n",
        "3. FP(False Positive): the answer given by the model is positive, but in reality it is supposed to be negative, so it is signed as incorrect;\n",
        "4. FN(False Negative): the answer given by the model is negative, but in reality it is supposed to be positive, so it is signed as incorrect;"
      ],
      "metadata": {
        "id": "RAQ97TX-mgxO"
      }
    },
    {
      "cell_type": "code",
      "source": [
        "TP = 0\n",
        "TN = 0\n",
        "FP = 0\n",
        "FN = 0\n",
        "\n",
        "TP_tot = []\n",
        "TN_tot = []\n",
        "FP_tot = []\n",
        "FN_tot = []"
      ],
      "metadata": {
        "id": "fma2CqiL7IKL"
      },
      "execution_count": null,
      "outputs": []
    },
    {
      "cell_type": "markdown",
      "source": [
        "We compute the four arrays according to the answers."
      ],
      "metadata": {
        "id": "pk5g-mC47NaG"
      }
    },
    {
      "cell_type": "code",
      "source": [
        "for l in range(10):\n",
        "  for i in gruppi.values():\n",
        "    # i=0 : [[\"C\",\"NC\",\"C\",...],[...],...]\n",
        "      for j in range(len(i)):\n",
        "      #j=0 : [\"C\",\"NC\",\"C\",...]\n",
        "        if l == 3:\n",
        "          if i[j][l] == 'C':\n",
        "            TP += 1\n",
        "          else:\n",
        "            FN += 1\n",
        "        elif l == 7:\n",
        "          if i[j][l] == 'C':\n",
        "            TN += 1\n",
        "          else:\n",
        "            FP += 1\n",
        "        else:\n",
        "          if i[j][l] == 'C':\n",
        "            TP += 1\n",
        "          else:\n",
        "            FP += 1\n",
        "  FN_tot.append(FN)\n",
        "  TP_tot.append(TP)\n",
        "  FP_tot.append(FP)\n",
        "  TN_tot.append(TN)\n",
        "  FP=0\n",
        "  FN=0\n",
        "  TN=0\n",
        "  TP=0\n",
        "\n",
        "print(\"FP_TOT is \", FP_tot)\n",
        "print(\"TP_tot is\" , TP_tot)\n",
        "print(\"FN_tot is\", FN_tot)\n",
        "print(\"TN_tot is\", TN_tot)"
      ],
      "metadata": {
        "colab": {
          "base_uri": "https://localhost:8080/"
        },
        "id": "ygNhh1lCxgqj",
        "outputId": "383dceec-2844-4c05-eaa3-726bac2e7a9d",
        "collapsed": true
      },
      "execution_count": null,
      "outputs": [
        {
          "output_type": "stream",
          "name": "stdout",
          "text": [
            "FP_TOT is  [6, 14, 7, 0, 3, 17, 16, 1, 0, 2]\n",
            "TP_tot is [14, 6, 13, 4, 17, 3, 4, 0, 20, 18]\n",
            "FN_tot is [0, 0, 0, 16, 0, 0, 0, 0, 0, 0]\n",
            "TN_tot is [0, 0, 0, 0, 0, 0, 0, 19, 0, 0]\n"
          ]
        }
      ]
    },
    {
      "cell_type": "markdown",
      "source": [
        "For the six considerated questions:\n"
      ],
      "metadata": {
        "id": "FNKp8fN2Ufou"
      }
    },
    {
      "cell_type": "code",
      "source": [
        "for l in range(10):\n",
        "  if l==1 or l==3 or l==5 or l==6:\n",
        "          continue\n",
        "  for i in gruppi.values():\n",
        "    # i=0 : [[\"C\",\"NC\",\"C\",...],[...],...]\n",
        "      for j in range(len(i)):\n",
        "      #j=0 : [\"C\",\"NC\",\"C\",...]\n",
        "        if l == 3:\n",
        "          if i[j][l] == 'C':\n",
        "            TP += 1\n",
        "          else:\n",
        "            FN += 1\n",
        "        elif l == 7:\n",
        "          if i[j][l] == 'C':\n",
        "            TN += 1\n",
        "          else:\n",
        "            FP += 1\n",
        "        else:\n",
        "          if i[j][l] == 'C':\n",
        "            TP += 1\n",
        "          else:\n",
        "            FP += 1\n",
        "  FN_tot.append(FN)\n",
        "  TP_tot.append(TP)\n",
        "  FP_tot.append(FP)\n",
        "  TN_tot.append(TN)\n",
        "  FP=0\n",
        "  FN=0\n",
        "  TN=0\n",
        "  TP=0\n",
        "\n",
        "print(\"FP_TOT is \", FP_tot)\n",
        "print(\"TP_tot is\" , TP_tot)\n",
        "print(\"FN_tot is\", FN_tot)\n",
        "print(\"TN_tot is\", TN_tot)"
      ],
      "metadata": {
        "colab": {
          "base_uri": "https://localhost:8080/"
        },
        "id": "502-B81bUYDu",
        "outputId": "3f90a0b4-6419-4f04-b013-be5e4fc84c82"
      },
      "execution_count": null,
      "outputs": [
        {
          "output_type": "stream",
          "name": "stdout",
          "text": [
            "FP_TOT is  [30, 39, 23, 25, 8, 12, 6, 7, 3, 1, 0, 2]\n",
            "TP_tot is [67, 58, 74, 0, 89, 85, 14, 13, 17, 0, 20, 18]\n",
            "FN_tot is [0, 0, 0, 0, 0, 0, 0, 0, 0, 0, 0, 0]\n",
            "TN_tot is [0, 0, 0, 72, 0, 0, 0, 0, 0, 19, 0, 0]\n"
          ]
        }
      ]
    },
    {
      "cell_type": "markdown",
      "source": [
        "Now we'll calculate the accuracy, the precision, the recall and the f1 score.\n",
        "\n",
        "Accuracy -> ratio of TP and TN to the total number of samples\n",
        "\n",
        "Precision -> ratio of TP to the sum of TP and FP\n",
        "\n",
        "Recall -> ratio of TP to the sum of TP and FN\n",
        "\n",
        "F1 Score -> harmonic mean of precision and recall"
      ],
      "metadata": {
        "id": "_IFTTNpCzslV"
      }
    },
    {
      "cell_type": "code",
      "source": [
        "#Total number of samples\n",
        "tot = sum(TP_tot) + sum(TN_tot) +sum(FP_tot) + sum(FN_tot)\n",
        "\n",
        "#Accuracy\n",
        "acc = (sum(TP_tot) + sum(TN_tot))/tot\n",
        "\n",
        "#Precision\n",
        "prec = sum(TP_tot)/(sum(TP_tot) + sum(FP_tot))\n",
        "\n",
        "#Recall\n",
        "rec = sum(TP_tot)/(sum(TP_tot) + sum(FN_tot))\n",
        "\n",
        "#F1 Score\n",
        "f1_score = (2 * prec * rec)/(prec + rec)\n",
        "\n",
        "\n",
        "print(\"The accuracy is\" , acc)\n",
        "print(\"The precision is\", prec)\n",
        "print(\"The recall is\", rec)\n",
        "print(\"The F1 Score is\", f1_score)\n"
      ],
      "metadata": {
        "id": "NfQVgh4BzdHa",
        "colab": {
          "base_uri": "https://localhost:8080/"
        },
        "outputId": "47ad5b36-4208-404d-a9df-8714b305edc9"
      },
      "execution_count": null,
      "outputs": [
        {
          "output_type": "stream",
          "name": "stdout",
          "text": [
            "The accuracy is 0.7777777777777778\n",
            "The precision is 0.7446808510638298\n",
            "The recall is 1.0\n",
            "The F1 Score is 0.8536585365853657\n"
          ]
        }
      ]
    },
    {
      "cell_type": "markdown",
      "source": [
        "  Calculating accuracy per question.\n",
        "  Original questionnaire:"
      ],
      "metadata": {
        "id": "hR7besNhbtnW"
      }
    },
    {
      "cell_type": "code",
      "source": [
        "C_tot = []\n",
        "NC_tot = []\n",
        "C_i = 0\n",
        "NC_i = 0\n",
        "\n",
        "for l in range(10):\n",
        "  for i in gruppi.values():\n",
        "      for j in range(len(i)):\n",
        "        if i[j][l] == 'C':\n",
        "          C_i += 1\n",
        "        else:\n",
        "          NC_i += 1\n",
        "  C_tot.append(C_i)\n",
        "  NC_tot.append(NC_i)\n",
        "  C_i = 0\n",
        "  NC_i = 0\n",
        "\n",
        "#Averages per question\n",
        "for l in range(len(C_tot)):\n",
        "  average_C = C_tot[l]/(C_tot[l]+NC_tot[l])\n",
        "  average_NC = NC_tot[l]/(C_tot[l]+NC_tot[l])\n",
        "  print(\"The average of C answers in the question \", l+1 , \" is \", average_C)\n",
        "  print(\"The average of NC answers in the question \", l+1 , \" is \", average_NC)"
      ],
      "metadata": {
        "colab": {
          "base_uri": "https://localhost:8080/"
        },
        "id": "MOAD0PyDtKQd",
        "outputId": "89142662-201b-421e-d25e-a6793b2a6bc4"
      },
      "execution_count": null,
      "outputs": [
        {
          "output_type": "stream",
          "name": "stdout",
          "text": [
            "14\n",
            "6\n",
            "6\n",
            "14\n",
            "13\n",
            "7\n",
            "4\n",
            "16\n",
            "17\n",
            "3\n",
            "3\n",
            "17\n",
            "4\n",
            "16\n",
            "19\n",
            "1\n",
            "20\n",
            "0\n",
            "18\n",
            "2\n",
            "The average of C answers in the question  1  is  0.7\n",
            "The average of NC answers in the question  1  is  0.3\n",
            "The average of C answers in the question  2  is  0.3\n",
            "The average of NC answers in the question  2  is  0.7\n",
            "The average of C answers in the question  3  is  0.65\n",
            "The average of NC answers in the question  3  is  0.35\n",
            "The average of C answers in the question  4  is  0.2\n",
            "The average of NC answers in the question  4  is  0.8\n",
            "The average of C answers in the question  5  is  0.85\n",
            "The average of NC answers in the question  5  is  0.15\n",
            "The average of C answers in the question  6  is  0.15\n",
            "The average of NC answers in the question  6  is  0.85\n",
            "The average of C answers in the question  7  is  0.2\n",
            "The average of NC answers in the question  7  is  0.8\n",
            "The average of C answers in the question  8  is  0.95\n",
            "The average of NC answers in the question  8  is  0.05\n",
            "The average of C answers in the question  9  is  1.0\n",
            "The average of NC answers in the question  9  is  0.0\n",
            "The average of C answers in the question  10  is  0.9\n",
            "The average of NC answers in the question  10  is  0.1\n"
          ]
        }
      ]
    },
    {
      "cell_type": "markdown",
      "source": [
        "For the selected questionnaire..."
      ],
      "metadata": {
        "id": "Y7zqItLhb3Gn"
      }
    },
    {
      "cell_type": "code",
      "source": [
        "C_tot = []\n",
        "NC_tot = []\n",
        "C_i = 0\n",
        "NC_i = 0\n",
        "\n",
        "for l in range(10):\n",
        "  if l==1 or l==3 or l==5 or l==6:\n",
        "          continue\n",
        "  for i in gruppi.values():\n",
        "      for j in range(len(i)):\n",
        "        if i[j][l] == 'C':\n",
        "          C_i += 1\n",
        "        else:\n",
        "          NC_i += 1\n",
        "  C_tot.append(C_i)\n",
        "  NC_tot.append(NC_i)\n",
        "  C_i = 0\n",
        "  NC_i = 0\n",
        "\n",
        "#Averages per question\n",
        "for l in range(len(C_tot)):\n",
        "  average_C = C_tot[l]/(C_tot[l]+NC_tot[l])\n",
        "  average_NC = NC_tot[l]/(C_tot[l]+NC_tot[l])\n",
        "  print(\"The average of C answers in the question \", l+1 , \" is \", average_C)\n",
        "  print(\"The average of NC answers in the question \", l+1 , \" is \", average_NC)"
      ],
      "metadata": {
        "colab": {
          "base_uri": "https://localhost:8080/"
        },
        "id": "e9XjDv3HxUy4",
        "outputId": "60ae172f-1c51-4159-d624-f179af354322"
      },
      "execution_count": null,
      "outputs": [
        {
          "output_type": "stream",
          "name": "stdout",
          "text": [
            "67\n",
            "30\n",
            "58\n",
            "39\n",
            "74\n",
            "23\n",
            "72\n",
            "25\n",
            "89\n",
            "8\n",
            "85\n",
            "12\n",
            "The average of C answers in the question  1  is  0.6907216494845361\n",
            "The average of NC answers in the question  1  is  0.30927835051546393\n",
            "The average of C answers in the question  2  is  0.5979381443298969\n",
            "The average of NC answers in the question  2  is  0.4020618556701031\n",
            "The average of C answers in the question  3  is  0.7628865979381443\n",
            "The average of NC answers in the question  3  is  0.23711340206185566\n",
            "The average of C answers in the question  4  is  0.7422680412371134\n",
            "The average of NC answers in the question  4  is  0.25773195876288657\n",
            "The average of C answers in the question  5  is  0.9175257731958762\n",
            "The average of NC answers in the question  5  is  0.08247422680412371\n",
            "The average of C answers in the question  6  is  0.8762886597938144\n",
            "The average of NC answers in the question  6  is  0.12371134020618557\n"
          ]
        }
      ]
    }
  ]
}