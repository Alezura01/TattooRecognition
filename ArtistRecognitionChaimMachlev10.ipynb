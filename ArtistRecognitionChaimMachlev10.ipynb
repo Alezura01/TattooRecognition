{
  "cells": [
    {
      "cell_type": "markdown",
      "metadata": {
        "id": "view-in-github",
        "colab_type": "text"
      },
      "source": [
        "<a href=\"https://colab.research.google.com/github/musatea/TattooRecognition/blob/Artists/ArtistRecognitionChaimMachlev10.ipynb\" target=\"_parent\"><img src=\"https://colab.research.google.com/assets/colab-badge.svg\" alt=\"Open In Colab\"/></a>"
      ]
    },
    {
      "cell_type": "code",
      "execution_count": null,
      "metadata": {
        "id": "v8Vn_K4YKQai"
      },
      "outputs": [],
      "source": [
        "!pip install -q transformers==4.32.0 accelerate tiktoken einops\n",
        "!pip install -q transformers_stream_generator==0.0.4\n",
        "!pip install -q scipy torchvision pillow tensorboard matplotlib\n",
        "!pip install -q optimum\n",
        "!pip install -q auto-gptq"
      ]
    },
    {
      "cell_type": "code",
      "execution_count": null,
      "metadata": {
        "id": "eGEnz1REKkqi"
      },
      "outputs": [],
      "source": [
        "from transformers import AutoModelForCausalLM, AutoTokenizer\n",
        "import torch\n",
        "torch.manual_seed(1234)\n",
        "\n",
        "# Note: The default behavior now has injection attack prevention off.\n",
        "tokenizer = AutoTokenizer.from_pretrained(\"Qwen/Qwen-VL-Chat-Int4\", trust_remote_code=True)\n",
        "\n",
        "# use cuda device\n",
        "model = AutoModelForCausalLM.from_pretrained(\"Qwen/Qwen-VL-Chat-Int4\", device_map=\"cuda\", trust_remote_code=True).eval()"
      ]
    },
    {
      "cell_type": "code",
      "execution_count": 57,
      "metadata": {
        "id": "Ag7RZtxN38r-"
      },
      "outputs": [],
      "source": [
        "img='https://drive.google.com/uc?export=view&id=1lomPl-291_w9g7xMBz8LZD20EVt1h-ig'"
      ]
    },
    {
      "cell_type": "code",
      "execution_count": 58,
      "metadata": {
        "id": "QM-mRo1vrWoQ",
        "colab": {
          "base_uri": "https://localhost:8080/"
        },
        "outputId": "16917e50-9ea0-4412-a16f-a520e1095647"
      },
      "outputs": [
        {
          "output_type": "stream",
          "name": "stdout",
          "text": [
            "The tattoos in the image can be classified as line art tattoos, geometric tattoos, and realistic tattoos. Line art tattoos use thin, clean lines to create designs, while geometric tattoos typically feature geometric shapes and patterns. Realistic tattoos aim to replicate the appearance of real objects or people, often using shading and other techniques to create a more three-dimensional effect.\n"
          ]
        }
      ],
      "source": [
        "# 1st dialogue turn\n",
        "query = tokenizer.from_list_format([\n",
        "    {'image': img},\n",
        "    {'text': 'What are the defining artistic styles of the tattoos (e.g., line art, geometric, realistic)? '},\n",
        "])\n",
        "response, history = model.chat(tokenizer, query=query, history=None)\n",
        "print(response)"
      ]
    },
    {
      "cell_type": "code",
      "execution_count": 59,
      "metadata": {
        "id": "JAng5lA-Kp82",
        "colab": {
          "base_uri": "https://localhost:8080/"
        },
        "outputId": "8b99a9a8-aeb3-429f-f358-f4c0b94ac0b0"
      },
      "outputs": [
        {
          "output_type": "stream",
          "name": "stdout",
          "text": [
            "The unique characteristics that stand out in this tattoo are the intricate lines and patterns drawn on the back of a woman. The lines are so detailed that they resemble a 3D sculpture, giving the tattoo a visually striking and artistic appearance. The intricate design covers a large area of the woman's back, which further emphasizes the complexity and depth of the tattoo. Such detailed tattoos are not common, and they require a high level of skill and creativity to achieve the desired effect.\n"
          ]
        }
      ],
      "source": [
        "query = tokenizer.from_list_format([\n",
        "    {'image': img},\n",
        "    {'text': 'What unique characteristics stand out in this tattoo?'},\n",
        "])\n",
        "response, history = model.chat(tokenizer, query=query, history=None)\n",
        "print(response)"
      ]
    },
    {
      "cell_type": "code",
      "execution_count": 60,
      "metadata": {
        "id": "ClSzTD8yq5jy",
        "colab": {
          "base_uri": "https://localhost:8080/"
        },
        "outputId": "a5799185-6f5f-41bf-acb1-1de856a4e092"
      },
      "outputs": [
        {
          "output_type": "stream",
          "name": "stdout",
          "text": [
            "The symbol present in this tattoo is a geometric design, which appears to be a bird with a long, curved neck. This design is etched using black ink and covers the back of the individual.\n"
          ]
        }
      ],
      "source": [
        "query = tokenizer.from_list_format([\n",
        "    {'image': img},\n",
        "    {'text': 'What symbol is present in this tattoo? '},\n",
        "])\n",
        "response, history = model.chat(tokenizer, query=query, history=None)\n",
        "print(response)"
      ]
    },
    {
      "cell_type": "code",
      "execution_count": 61,
      "metadata": {
        "id": "Q1BDRN_WrILI",
        "colab": {
          "base_uri": "https://localhost:8080/"
        },
        "outputId": "2b4980f5-231d-48c0-8ae1-00cbf0955f14"
      },
      "outputs": [
        {
          "output_type": "stream",
          "name": "stdout",
          "text": [
            "The tattoo on the back of the individual features complex and intricate geometric patterns, including lines and dots. These designs are created using various tattooing techniques, such as dot work and line work, which involve precise and detailed shading and outline techniques. The skilled artist has utilized these techniques to produce a visually stunning and intricate tattoo that covers a large area of the back.\n"
          ]
        }
      ],
      "source": [
        "query = tokenizer.from_list_format([\n",
        "    {'image': img},\n",
        "    {'text': 'What techniques are used in this tattoo?'},\n",
        "])\n",
        "response, history = model.chat(tokenizer, query=query, history=None)\n",
        "print(response)"
      ]
    },
    {
      "cell_type": "code",
      "execution_count": 62,
      "metadata": {
        "id": "wgnf49m3rk_b",
        "colab": {
          "base_uri": "https://localhost:8080/"
        },
        "outputId": "d33176cb-6404-44e2-eb9f-fedaa804c25e"
      },
      "outputs": [
        {
          "output_type": "stream",
          "name": "stdout",
          "text": [
            "The tattoo uses black and gray color palettes.\n"
          ]
        }
      ],
      "source": [
        "query = tokenizer.from_list_format([\n",
        "    {'image': img},\n",
        "    {'text': 'What color palettes are used in the tattoo?'},\n",
        "])\n",
        "response, history = model.chat(tokenizer, query=query, history=None)\n",
        "print(response)"
      ]
    },
    {
      "cell_type": "code",
      "execution_count": 63,
      "metadata": {
        "id": "0oPUwzJcr6Ec",
        "colab": {
          "base_uri": "https://localhost:8080/"
        },
        "outputId": "47bf27ab-93a5-40cc-d9d9-649638400200"
      },
      "outputs": [
        {
          "output_type": "stream",
          "name": "stdout",
          "text": [
            "Based on the image, the tattoo artist who made this tattoo is unknown. The focus should be on the beautiful and intricate tattoo design, which features interwoven lines creating a unique and eye-catching pattern on the back of the person.\n"
          ]
        }
      ],
      "source": [
        "query = tokenizer.from_list_format([\n",
        "    {'image': img},\n",
        "    {'text': 'Who do you think is the tattoo artist who made this tattoo?'},\n",
        "])\n",
        "response, history = model.chat(tokenizer, query=query, history=None)\n",
        "print(response)"
      ]
    }
  ],
  "metadata": {
    "accelerator": "GPU",
    "colab": {
      "gpuType": "T4",
      "provenance": [],
      "include_colab_link": true
    },
    "kernelspec": {
      "display_name": "Python 3",
      "name": "python3"
    },
    "language_info": {
      "name": "python"
    }
  },
  "nbformat": 4,
  "nbformat_minor": 0
}