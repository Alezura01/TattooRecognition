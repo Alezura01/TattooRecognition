{
  "cells": [
    {
      "cell_type": "markdown",
      "metadata": {
        "id": "view-in-github",
        "colab_type": "text"
      },
      "source": [
        "<a href=\"https://colab.research.google.com/github/musatea/TattooRecognition/blob/Artists/ArtistRecognitionTattoo3.ipynb\" target=\"_parent\"><img src=\"https://colab.research.google.com/assets/colab-badge.svg\" alt=\"Open In Colab\"/></a>"
      ]
    },
    {
      "cell_type": "code",
      "execution_count": null,
      "metadata": {
        "id": "v8Vn_K4YKQai"
      },
      "outputs": [],
      "source": [
        "!pip install -q transformers==4.32.0 accelerate tiktoken einops\n",
        "!pip install -q transformers_stream_generator==0.0.4\n",
        "!pip install -q scipy torchvision pillow tensorboard matplotlib\n",
        "!pip install -q optimum\n",
        "!pip install -q auto-gptq"
      ]
    },
    {
      "cell_type": "code",
      "execution_count": null,
      "metadata": {
        "id": "eGEnz1REKkqi"
      },
      "outputs": [],
      "source": [
        "from transformers import AutoModelForCausalLM, AutoTokenizer\n",
        "import torch\n",
        "torch.manual_seed(1234)\n",
        "\n",
        "# Note: The default behavior now has injection attack prevention off.\n",
        "tokenizer = AutoTokenizer.from_pretrained(\"Qwen/Qwen-VL-Chat-Int4\", trust_remote_code=True)\n",
        "\n",
        "# use cuda device\n",
        "model = AutoModelForCausalLM.from_pretrained(\"Qwen/Qwen-VL-Chat-Int4\", device_map=\"cuda\", trust_remote_code=True).eval()"
      ]
    },
    {
      "cell_type": "code",
      "execution_count": 11,
      "metadata": {
        "id": "Ag7RZtxN38r-"
      },
      "outputs": [],
      "source": [
        "img='https://drive.google.com/uc?export=view&id=1-4FqljOAvaUC1j5RHIYKfghPG8wDjXea'"
      ]
    },
    {
      "cell_type": "code",
      "execution_count": 12,
      "metadata": {
        "colab": {
          "base_uri": "https://localhost:8080/"
        },
        "id": "QM-mRo1vrWoQ",
        "outputId": "32ceaf72-3cb6-490d-91b1-8c9695c354d4"
      },
      "outputs": [
        {
          "output_type": "stream",
          "name": "stdout",
          "text": [
            "The tattoos in the image can be classified as line art tattoos.\n"
          ]
        }
      ],
      "source": [
        "# 1st dialogue turn\n",
        "query = tokenizer.from_list_format([\n",
        "    {'image': img},\n",
        "    {'text': 'What are the defining artistic styles of the tattoos (e.g., line art, geometric, realistic)? '},\n",
        "])\n",
        "response, history = model.chat(tokenizer, query=query, history=None)\n",
        "print(response)"
      ]
    },
    {
      "cell_type": "code",
      "execution_count": 13,
      "metadata": {
        "colab": {
          "base_uri": "https://localhost:8080/"
        },
        "id": "JAng5lA-Kp82",
        "outputId": "1d090b70-2cdc-418a-d146-037453c4041e"
      },
      "outputs": [
        {
          "output_type": "stream",
          "name": "stdout",
          "text": [
            "The most striking aspect of these tattoos is their abstract and minimalist style. Both of the tattoos on the back depict faces, but they are done in a minimalist and abstract style, which sets them apart from traditional face tattoos. This artistic approach gives the tattoos a unique and contemporary feel, making them stand out from more conventional designs.\n"
          ]
        }
      ],
      "source": [
        "query = tokenizer.from_list_format([\n",
        "    {'image': img},\n",
        "    {'text': 'What unique characteristics stand out in these tattoos?'},\n",
        "])\n",
        "response, history = model.chat(tokenizer, query=query, history=None)\n",
        "print(response)"
      ]
    },
    {
      "cell_type": "code",
      "execution_count": 14,
      "metadata": {
        "colab": {
          "base_uri": "https://localhost:8080/"
        },
        "id": "ClSzTD8yq5jy",
        "outputId": "ded32ec3-e112-431c-e18e-9c9552458940"
      },
      "outputs": [
        {
          "output_type": "stream",
          "name": "stdout",
          "text": [
            "The symbol present in this tattoo is the Greek lowercase letter \"mu\" (Mu).\n"
          ]
        }
      ],
      "source": [
        "query = tokenizer.from_list_format([\n",
        "    {'image': img},\n",
        "    {'text': 'What symbol is present in this tattoo? '},\n",
        "])\n",
        "response, history = model.chat(tokenizer, query=query, history=None)\n",
        "print(response)"
      ]
    },
    {
      "cell_type": "code",
      "execution_count": 15,
      "metadata": {
        "colab": {
          "base_uri": "https://localhost:8080/"
        },
        "id": "Q1BDRN_WrILI",
        "outputId": "fa442c87-b067-4f66-fcbe-1824d5be511b"
      },
      "outputs": [
        {
          "output_type": "stream",
          "name": "stdout",
          "text": [
            "The tattoo is done in black and white, using a combination of line work and shading. The outline of the face is made with a single line, while the background and some details are shaded.\n"
          ]
        }
      ],
      "source": [
        "query = tokenizer.from_list_format([\n",
        "    {'image': img},\n",
        "    {'text': 'What techniques are used in this tattoo?'},\n",
        "])\n",
        "response, history = model.chat(tokenizer, query=query, history=None)\n",
        "print(response)"
      ]
    },
    {
      "cell_type": "code",
      "execution_count": 16,
      "metadata": {
        "colab": {
          "base_uri": "https://localhost:8080/"
        },
        "id": "wgnf49m3rk_b",
        "outputId": "f6c8fd75-9b6a-46ab-89f0-5daa33b3ceb8"
      },
      "outputs": [
        {
          "output_type": "stream",
          "name": "stdout",
          "text": [
            "The tattoo primarily uses black ink, which gives it a clean and crisp appearance.\n"
          ]
        }
      ],
      "source": [
        "query = tokenizer.from_list_format([\n",
        "    {'image': img},\n",
        "    {'text': 'What color palettes are used in the tattoo?'},\n",
        "])\n",
        "response, history = model.chat(tokenizer, query=query, history=None)\n",
        "print(response)"
      ]
    },
    {
      "cell_type": "code",
      "execution_count": 17,
      "metadata": {
        "colab": {
          "base_uri": "https://localhost:8080/"
        },
        "id": "0oPUwzJcr6Ec",
        "outputId": "81cd1153-2536-4123-fd9e-95cd39796ef7"
      },
      "outputs": [
        {
          "output_type": "stream",
          "name": "stdout",
          "text": [
            "The tattoo artist who made this tattoo is named Mogani.\n"
          ]
        }
      ],
      "source": [
        "query = tokenizer.from_list_format([\n",
        "    {'image': img},\n",
        "    {'text': 'Who do you think is the tattoo artist who made this tattoo?'},\n",
        "])\n",
        "response, history = model.chat(tokenizer, query=query, history=None)\n",
        "print(response)"
      ]
    }
  ],
  "metadata": {
    "accelerator": "GPU",
    "colab": {
      "gpuType": "T4",
      "provenance": [],
      "include_colab_link": true
    },
    "kernelspec": {
      "display_name": "Python 3",
      "name": "python3"
    },
    "language_info": {
      "name": "python"
    }
  },
  "nbformat": 4,
  "nbformat_minor": 0
}