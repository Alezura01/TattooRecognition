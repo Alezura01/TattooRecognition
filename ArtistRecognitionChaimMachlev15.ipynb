{
  "cells": [
    {
      "cell_type": "markdown",
      "metadata": {
        "id": "view-in-github",
        "colab_type": "text"
      },
      "source": [
        "<a href=\"https://colab.research.google.com/github/musatea/TattooRecognition/blob/Artists/ArtistRecognitionChaimMachlev15.ipynb\" target=\"_parent\"><img src=\"https://colab.research.google.com/assets/colab-badge.svg\" alt=\"Open In Colab\"/></a>"
      ]
    },
    {
      "cell_type": "code",
      "execution_count": null,
      "metadata": {
        "id": "v8Vn_K4YKQai"
      },
      "outputs": [],
      "source": [
        "!pip install -q transformers==4.32.0 accelerate tiktoken einops\n",
        "!pip install -q transformers_stream_generator==0.0.4\n",
        "!pip install -q scipy torchvision pillow tensorboard matplotlib\n",
        "!pip install -q optimum\n",
        "!pip install -q auto-gptq"
      ]
    },
    {
      "cell_type": "code",
      "execution_count": null,
      "metadata": {
        "id": "eGEnz1REKkqi"
      },
      "outputs": [],
      "source": [
        "from transformers import AutoModelForCausalLM, AutoTokenizer\n",
        "import torch\n",
        "torch.manual_seed(1234)\n",
        "\n",
        "# Note: The default behavior now has injection attack prevention off.\n",
        "tokenizer = AutoTokenizer.from_pretrained(\"Qwen/Qwen-VL-Chat-Int4\", trust_remote_code=True)\n",
        "\n",
        "# use cuda device\n",
        "model = AutoModelForCausalLM.from_pretrained(\"Qwen/Qwen-VL-Chat-Int4\", device_map=\"cuda\", trust_remote_code=True).eval()"
      ]
    },
    {
      "cell_type": "code",
      "execution_count": 71,
      "metadata": {
        "id": "Ag7RZtxN38r-"
      },
      "outputs": [],
      "source": [
        "img='https://drive.google.com/uc?export=view&id=1sswzBw4Rp6CjF6GrNde4VXvA3cs3GBDK'"
      ]
    },
    {
      "cell_type": "code",
      "execution_count": 72,
      "metadata": {
        "id": "QM-mRo1vrWoQ",
        "colab": {
          "base_uri": "https://localhost:8080/"
        },
        "outputId": "533ae540-943d-4fe9-b2b7-b0231e42cb8a"
      },
      "outputs": [
        {
          "output_type": "stream",
          "name": "stdout",
          "text": [
            "The tattoos shown in the image are of the line art style. Line art is a minimalist style that consists of thin, clean lines that create geometric shapes and patterns. In this case, the tattoos consist of various geometric shapes and lines that create a cohesive design on the woman's leg. The use of black ink and the clean, crisp lines give the tattoos a sleek and modern appearance.\n"
          ]
        }
      ],
      "source": [
        "# 1st dialogue turn\n",
        "query = tokenizer.from_list_format([\n",
        "    {'image': img},\n",
        "    {'text': 'What are the defining artistic styles of the tattoos (e.g., line art, geometric, realistic)? '},\n",
        "])\n",
        "response, history = model.chat(tokenizer, query=query, history=None)\n",
        "print(response)"
      ]
    },
    {
      "cell_type": "code",
      "execution_count": 73,
      "metadata": {
        "id": "JAng5lA-Kp82",
        "colab": {
          "base_uri": "https://localhost:8080/"
        },
        "outputId": "15d98a04-ce02-47b7-d058-e111ee79ea79"
      },
      "outputs": [
        {
          "output_type": "stream",
          "name": "stdout",
          "text": [
            "The unique characteristics that stand out in this tattoo are the intricate design and the use of black and white colors. The tattoo artist has created a complex design on the woman's leg, which features various lines and geometric shapes. The black and white color scheme adds a minimalist and elegant touch to the overall appearance of the tattoo. This combination of intricate design and monochromatic color palette makes the tattoo visually striking and distinct.\n"
          ]
        }
      ],
      "source": [
        "query = tokenizer.from_list_format([\n",
        "    {'image': img},\n",
        "    {'text': 'What unique characteristics stand out in this tattoo?'},\n",
        "])\n",
        "response, history = model.chat(tokenizer, query=query, history=None)\n",
        "print(response)"
      ]
    },
    {
      "cell_type": "code",
      "execution_count": 74,
      "metadata": {
        "id": "ClSzTD8yq5jy",
        "colab": {
          "base_uri": "https://localhost:8080/"
        },
        "outputId": "916100eb-8ad7-4918-8903-58e71f83fa0f"
      },
      "outputs": [
        {
          "output_type": "stream",
          "name": "stdout",
          "text": [
            "The tattoo features a geometric design, specifically a geometric spiral pattern, on the leg.\n"
          ]
        }
      ],
      "source": [
        "query = tokenizer.from_list_format([\n",
        "    {'image': img},\n",
        "    {'text': 'What symbol is present in this tattoo? '},\n",
        "])\n",
        "response, history = model.chat(tokenizer, query=query, history=None)\n",
        "print(response)"
      ]
    },
    {
      "cell_type": "code",
      "execution_count": 75,
      "metadata": {
        "id": "Q1BDRN_WrILI",
        "colab": {
          "base_uri": "https://localhost:8080/"
        },
        "outputId": "4be35269-6a13-4a5f-fb0b-0f66b16f29eb"
      },
      "outputs": [
        {
          "output_type": "stream",
          "name": "stdout",
          "text": [
            "The tattoo on the woman's leg features linear and geometric elements, including curves and spirals. It is a black and white tattoo, which creates a clean and minimalist appearance. The use of lines and geometric shapes adds a sense of structure and organization to the design, while the curves and spirals introduce a sense of movement and dynamism. The combination of these elements creates a visually interesting and dynamic tattoo that stands out.\n"
          ]
        }
      ],
      "source": [
        "query = tokenizer.from_list_format([\n",
        "    {'image': img},\n",
        "    {'text': 'What techniques are used in this tattoo?'},\n",
        "])\n",
        "response, history = model.chat(tokenizer, query=query, history=None)\n",
        "print(response)"
      ]
    },
    {
      "cell_type": "code",
      "execution_count": 76,
      "metadata": {
        "id": "wgnf49m3rk_b",
        "colab": {
          "base_uri": "https://localhost:8080/"
        },
        "outputId": "3787131c-0565-439b-de97-dfa1abd3916f"
      },
      "outputs": [
        {
          "output_type": "stream",
          "name": "stdout",
          "text": [
            "The tattoo primarily uses black as the main color, with some white elements.\n"
          ]
        }
      ],
      "source": [
        "query = tokenizer.from_list_format([\n",
        "    {'image': img},\n",
        "    {'text': 'What color palettes are used in the tattoo?'},\n",
        "])\n",
        "response, history = model.chat(tokenizer, query=query, history=None)\n",
        "print(response)"
      ]
    },
    {
      "cell_type": "code",
      "execution_count": 77,
      "metadata": {
        "id": "0oPUwzJcr6Ec",
        "colab": {
          "base_uri": "https://localhost:8080/"
        },
        "outputId": "c9820ae6-7902-46ff-fe07-5e2fef59dda0"
      },
      "outputs": [
        {
          "output_type": "stream",
          "name": "stdout",
          "text": [
            "I believe the tattoo artist who made this tattoo is Daria Matveeva, also known as Daria75. She is a Russian tattoo artist who is well-known for her geometric tattoos, often incorporating lines and shapes into her designs. The tattoo on the woman's leg in the image is a great example of her signature style, featuring intricate lines and shapes that create a visually stunning piece of art.\n"
          ]
        }
      ],
      "source": [
        "query = tokenizer.from_list_format([\n",
        "    {'image': img},\n",
        "    {'text': 'Who do you think is the tattoo artist who made this tattoo?'},\n",
        "])\n",
        "response, history = model.chat(tokenizer, query=query, history=None)\n",
        "print(response)"
      ]
    }
  ],
  "metadata": {
    "accelerator": "GPU",
    "colab": {
      "gpuType": "T4",
      "provenance": [],
      "include_colab_link": true
    },
    "kernelspec": {
      "display_name": "Python 3",
      "name": "python3"
    },
    "language_info": {
      "name": "python"
    }
  },
  "nbformat": 4,
  "nbformat_minor": 0
}